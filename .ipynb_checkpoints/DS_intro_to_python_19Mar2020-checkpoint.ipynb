{
 "cells": [
  {
   "cell_type": "markdown",
   "metadata": {
    "colab_type": "text",
    "id": "r2sygNV1OvMd"
   },
   "source": [
    "# Intro to Python"
   ]
  },
  {
   "cell_type": "markdown",
   "metadata": {
    "colab_type": "text",
    "id": "cwH4xndwO2FD"
   },
   "source": [
    "Why Python?\n",
    "\n",
    "\n",
    "\n"
   ]
  },
  {
   "cell_type": "code",
   "execution_count": 1,
   "metadata": {
    "colab": {},
    "colab_type": "code",
    "id": "pOLO5jp7OvMh"
   },
   "outputs": [
    {
     "name": "stdout",
     "output_type": "stream",
     "text": [
      "Hello world!\n"
     ]
    }
   ],
   "source": [
    "print(\"Hello world!\")"
   ]
  },
  {
   "cell_type": "markdown",
   "metadata": {
    "colab_type": "text",
    "id": "HIaRqn7POvMq"
   },
   "source": [
    "## Python Environment\n",
    "\n",
    "_(Denis)_\n",
    "\n",
    "Programming in Python can look like many things. Often times, it is interacted with as a command line interface (sometimes also referred to as a \"console\", a \"Python shell\", a \"REPL\"). Other times, people use it in an iPython or Jupyter notebook (that's what this document is), which allows users to selectively execute written code.\n",
    "\n",
    "There are also other more sophisticated python development environments, such as [PyCharm](https://upload.wikimedia.org/wikipedia/commons/0/05/PyCharm_4.5.1.png)\n",
    "\n",
    "In general, a Python environment listens for user input, evaluates that input, and returns whatever the result is.\n",
    "\n",
    "Try running the code blocks below (click on one and press Shift-Enter). The line that appears below the block is what is returned as a result of running that code."
   ]
  },
  {
   "cell_type": "code",
   "execution_count": 2,
   "metadata": {
    "colab": {},
    "colab_type": "code",
    "id": "aruauKa0OvMm"
   },
   "outputs": [
    {
     "data": {
      "text/plain": [
       "7"
      ]
     },
     "execution_count": 2,
     "metadata": {},
     "output_type": "execute_result"
    }
   ],
   "source": [
    "3 + 4 ## Addition"
   ]
  },
  {
   "cell_type": "code",
   "execution_count": 0,
   "metadata": {
    "colab": {},
    "colab_type": "code",
    "collapsed": true,
    "id": "bAiIvbMCQOag"
   },
   "outputs": [],
   "source": [
    "5**2 ## An exponent operation "
   ]
  },
  {
   "cell_type": "code",
   "execution_count": 0,
   "metadata": {
    "colab": {},
    "colab_type": "code",
    "collapsed": true,
    "id": "9VClfZn8QcRC"
   },
   "outputs": [],
   "source": [
    "5/6 ## Decimal/\"floating point\" division"
   ]
  },
  {
   "cell_type": "code",
   "execution_count": 0,
   "metadata": {
    "colab": {},
    "colab_type": "code",
    "collapsed": true,
    "id": "rxmX0RN84Ik6"
   },
   "outputs": [],
   "source": [
    "5//6 ## Integer division (note the difference compared to above!)"
   ]
  },
  {
   "cell_type": "code",
   "execution_count": 0,
   "metadata": {
    "colab": {},
    "colab_type": "code",
    "collapsed": true,
    "id": "v_Z35rSQ61LT"
   },
   "outputs": [],
   "source": [
    "not True ## Negating a boolean"
   ]
  },
  {
   "cell_type": "code",
   "execution_count": 0,
   "metadata": {
    "colab": {},
    "colab_type": "code",
    "collapsed": true,
    "id": "xJjDP3wa66E1"
   },
   "outputs": [],
   "source": [
    "not False"
   ]
  },
  {
   "cell_type": "markdown",
   "metadata": {
    "colab_type": "text",
    "id": "50HMQVdZOvMq"
   },
   "source": [
    "Our inputs to Python can roughly be categorized as either **commands** (i.e., requests to do something), or **definitions**"
   ]
  },
  {
   "cell_type": "code",
   "execution_count": 0,
   "metadata": {
    "colab": {},
    "colab_type": "code",
    "collapsed": true,
    "id": "f3zNPJvzOvMr"
   },
   "outputs": [],
   "source": [
    "## Two commands\n",
    "print(4 + 7)"
   ]
  },
  {
   "cell_type": "code",
   "execution_count": 0,
   "metadata": {
    "colab": {},
    "colab_type": "code",
    "collapsed": true,
    "id": "gELd99nzOvMu"
   },
   "outputs": [],
   "source": [
    "## Defining a variable\n",
    "my_location = \"New York University\""
   ]
  },
  {
   "cell_type": "code",
   "execution_count": 0,
   "metadata": {
    "colab": {},
    "colab_type": "code",
    "collapsed": true,
    "id": "drkCFJxWOvMw"
   },
   "outputs": [],
   "source": [
    "## Combining them!\n",
    "print(my_location)"
   ]
  },
  {
   "cell_type": "markdown",
   "metadata": {
    "colab_type": "text",
    "id": "8KnR-6NKFlBm"
   },
   "source": [
    "Side note: Jupyter notebooks automatically print the last result:"
   ]
  },
  {
   "cell_type": "code",
   "execution_count": 0,
   "metadata": {
    "colab": {},
    "colab_type": "code",
    "collapsed": true,
    "id": "K_b3UwdgFzqF"
   },
   "outputs": [],
   "source": [
    "4+5\n",
    "2+3"
   ]
  },
  {
   "cell_type": "markdown",
   "metadata": {
    "colab_type": "text",
    "id": "-u2MHh2KOvMz"
   },
   "source": [
    "## Introduction to Data Types\n",
    "\n",
    "_(Nick)_\n"
   ]
  },
  {
   "cell_type": "markdown",
   "metadata": {
    "colab_type": "text",
    "id": "NjviyUG_OvMz"
   },
   "source": [
    "Let's focus on **variable definitions** for a moment.\n",
    "\n",
    "One of the most common things you will be doing is defining the data\n",
    "that you will be using in the course of programming"
   ]
  },
  {
   "cell_type": "code",
   "execution_count": 0,
   "metadata": {
    "colab": {},
    "colab_type": "code",
    "collapsed": true,
    "id": "wJThLh_6OvM1"
   },
   "outputs": [],
   "source": [
    "## Whenever we want to use data, we declare and assign it to a \"variable\", in this case, my_city\n",
    "my_city = \"New York\""
   ]
  },
  {
   "cell_type": "code",
   "execution_count": 0,
   "metadata": {
    "colab": {},
    "colab_type": "code",
    "collapsed": true,
    "id": "ipQO5utuOvM3"
   },
   "outputs": [],
   "source": [
    "current_floor = 6"
   ]
  },
  {
   "cell_type": "markdown",
   "metadata": {
    "colab_type": "text",
    "id": "d3oMhfGoOvM6"
   },
   "source": [
    "Above, we've defined two variables. The \"single equals\" sign performs an assignment operation. One way to think of this is:\n",
    "\n",
    "\n",
    "> \"The variable 'current_floor' *gets* the value 6\".\n",
    "\n",
    "\n",
    "\n",
    "Notice that the actual data (right-side of the equals sign) is being highlighted in different colors across the two variables. This is happening because one variable contains text, or **string** data, while the other contains a number (an **integer**)\n",
    "\n",
    "These are two of the essential \"data types\".\n"
   ]
  },
  {
   "cell_type": "code",
   "execution_count": 0,
   "metadata": {
    "colab": {},
    "colab_type": "code",
    "collapsed": true,
    "id": "ln9ZXKgAOvM7"
   },
   "outputs": [],
   "source": [
    "## For instance, say we are currently on floor 6 of this building, but\n",
    "## we know that after this tutorial is finished, there's a book we want\n",
    "## to check out, and it's on the ninth floor.\n",
    "\n",
    "destination_floor = 9"
   ]
  },
  {
   "cell_type": "code",
   "execution_count": 0,
   "metadata": {
    "colab": {},
    "colab_type": "code",
    "collapsed": true,
    "id": "NtTDSMK9OvM9"
   },
   "outputs": [],
   "source": [
    "## We can figure out how many floors we'll have to travel to get there\n",
    "\n",
    "floors_I_need_to_walk = destination_floor - current_floor"
   ]
  },
  {
   "cell_type": "code",
   "execution_count": 0,
   "metadata": {
    "colab": {},
    "colab_type": "code",
    "collapsed": true,
    "id": "5GdsaK_sOvM_"
   },
   "outputs": [],
   "source": [
    "print(floors_I_need_to_walk)"
   ]
  },
  {
   "cell_type": "markdown",
   "metadata": {
    "colab_type": "text",
    "id": "FLHd5ejF5nGv"
   },
   "source": [
    "Using variables allows us to write generalized code that can serve as a formula, even as the specific values saved in these variables change."
   ]
  },
  {
   "cell_type": "markdown",
   "metadata": {
    "colab_type": "text",
    "id": "Y5HgPbSxz8bm"
   },
   "source": [
    "### List of data types\n",
    "\n",
    "\n",
    "*   string : `\"Hello there\"`\n",
    "*   boolean (true/false) : `True`\n",
    "*   integer : `4`\n",
    "*   decimal (float) : `4.0`\n",
    "\n",
    "Different operations are defined for each data type. For instance, you can *negate* any boolean value (turn a `True` into a `False`, or vice versa); you can *concatenate* strings together; you can *add* or *subtract* integers and decimals.\n",
    "\n",
    "You can check the type of any data using the `type()` function\n",
    "\n",
    "\n",
    "\n",
    "\n",
    "\n",
    "\n",
    "\n"
   ]
  },
  {
   "cell_type": "code",
   "execution_count": 0,
   "metadata": {
    "colab": {},
    "colab_type": "code",
    "collapsed": true,
    "id": "BkWzf2kj07qK"
   },
   "outputs": [],
   "source": [
    "print( type(4) )\n",
    "print( type(\"Hello\") )"
   ]
  },
  {
   "cell_type": "markdown",
   "metadata": {
    "colab_type": "text",
    "id": "qdS5EHCDptCb"
   },
   "source": [
    "###Reserved Keywords\n",
    "\n",
    "\n",
    "In Python, some words are \"reserved\" and cannot be used as names for variables or functions (identifiers).\n",
    "\n",
    "For instance, the word `True`, when it does not appear within quotation marks, will always evaluate to the _value_ **True** (and similar for `False`). Other reserved tokens are those that comprise the actual language, such as `if`, `else`, `return`, and so on.\n",
    "\n",
    "https://www.programiz.com/python-programming/keyword-list\n"
   ]
  },
  {
   "cell_type": "code",
   "execution_count": 0,
   "metadata": {
    "colab": {},
    "colab_type": "code",
    "collapsed": true,
    "id": "542xgOqlrphD"
   },
   "outputs": [],
   "source": [
    "True"
   ]
  },
  {
   "cell_type": "code",
   "execution_count": 0,
   "metadata": {
    "colab": {},
    "colab_type": "code",
    "collapsed": true,
    "id": "PfOBYjM2rr7M"
   },
   "outputs": [],
   "source": [
    "var1 = 10\n",
    "var2 = \"Hey!\"\n",
    "True = 3.4 ## Doesn't work!\n"
   ]
  },
  {
   "cell_type": "code",
   "execution_count": 0,
   "metadata": {
    "colab": {},
    "colab_type": "code",
    "collapsed": true,
    "id": "3pP-40r_r2B4"
   },
   "outputs": [],
   "source": [
    "var3 = True ## This, however, is completely fine...\n",
    "var3"
   ]
  },
  {
   "cell_type": "markdown",
   "metadata": {
    "colab_type": "text",
    "id": "BfOoDNmYRtRk"
   },
   "source": [
    "# Conditional Statements\n",
    "\n",
    "_(Denis)_\n",
    "\n",
    "\n",
    "Conditional if-statements are a very big part of programing with any language. We can think about it first using some pseudocode:\n",
    "\n",
    "```\n",
    "if ( it is raining outside ):\n",
    "  grab an umbrella before leaving\n",
    "else:\n",
    "  leave the umbrella at home\n",
    "```\n",
    "\n",
    "Conditional statements are a way to specify sections of code that should be executed only when a condition is true. You can think of the if and else lines as being gatekeepers to the code that exists right below them.\n"
   ]
  },
  {
   "cell_type": "code",
   "execution_count": 0,
   "metadata": {
    "colab": {},
    "colab_type": "code",
    "collapsed": true,
    "id": "lG1pLhNWR53E"
   },
   "outputs": [],
   "source": [
    "## Only when the condition between the parentheses evaluates to True do we\n",
    "## evaluate the associated code in the body\n",
    "\n",
    "iHaveMoney = False;\n",
    "\n",
    "if iHaveMoney:\n",
    "    print(\"I will buy ice cream!\")\n",
    "else:\n",
    "    print(\"I can't buy ice cream.\")"
   ]
  },
  {
   "cell_type": "code",
   "execution_count": 0,
   "metadata": {
    "colab": {},
    "colab_type": "code",
    "collapsed": true,
    "id": "nJaqlUbkvwQH"
   },
   "outputs": [],
   "source": [
    "friendHasMoney = False\n",
    "\n",
    "if iHaveMoney or friendHasMoney:\n",
    "    print(\"We will buy ice cream!\")\n",
    "else:\n",
    "    print(\"We can't buy ice cream.\")"
   ]
  },
  {
   "cell_type": "markdown",
   "metadata": {
    "colab_type": "text",
    "id": "XNuZHRJJQhg6"
   },
   "source": [
    "Multiple conditional statements can be written between the paranthesis, joined by the words \"or\" and \"and\". These words are logical operators in Python.\n",
    "\n",
    "As long as the statement within the paranthesis evaluates to a logical value (i.e., either **True** or **False**), it can be used within an if-statement."
   ]
  },
  {
   "cell_type": "code",
   "execution_count": 0,
   "metadata": {
    "colab": {},
    "colab_type": "code",
    "collapsed": true,
    "id": "QYYMjWs2QlR8"
   },
   "outputs": [],
   "source": [
    " 3 > 5 and 3 > 1 "
   ]
  },
  {
   "cell_type": "code",
   "execution_count": 0,
   "metadata": {
    "colab": {},
    "colab_type": "code",
    "collapsed": true,
    "id": "TBKREkvgvsAR"
   },
   "outputs": [],
   "source": [
    " 3 > 5 or 3 > 1 "
   ]
  },
  {
   "cell_type": "markdown",
   "metadata": {
    "colab_type": "text",
    "id": "qF_tt1_ETDxE"
   },
   "source": [
    "Statements on *both* sides of an \"and\" must evaluate to `True` for the interpreter to enter the body of code following it.\n",
    "\n",
    "### Challenge 1\n",
    "\n",
    "```python\n",
    "if True or False:\n",
    "  print(\"A\")\n",
    "  \n",
    "if True and False:\n",
    "  print(\"B\")\n",
    "  \n",
    "```\n",
    "\n",
    "What will be printed as a result of running the above code block?\n",
    "\n",
    "\n",
    "1.    A\n",
    "\n",
    "      B\n",
    "      \n",
    "2.    A\n",
    "3.    B\n",
    "4.    \n"
   ]
  },
  {
   "cell_type": "code",
   "execution_count": 0,
   "metadata": {
    "colab": {},
    "colab_type": "code",
    "collapsed": true,
    "id": "ld0iPUErV0k9"
   },
   "outputs": [],
   "source": [
    "## Try it out!\n",
    "\n",
    "if True or False:\n",
    "    print(\"A\")\n",
    "  \n",
    "if True and False:\n",
    "    print(\"B\")"
   ]
  },
  {
   "cell_type": "code",
   "execution_count": 0,
   "metadata": {
    "colab": {},
    "colab_type": "code",
    "collapsed": true,
    "id": "2ogx6Lm57Q0B"
   },
   "outputs": [],
   "source": [
    "## Testing equality\n",
    "\n",
    "print( 3 == (4 - 1) )\n",
    "## use the double equals to test equality, since single equals\n",
    "## is only used for assigning values\n",
    "\n",
    "print (3 != (4 - 1) )\n",
    "## the != operator means 'not equal'"
   ]
  },
  {
   "cell_type": "code",
   "execution_count": 0,
   "metadata": {
    "colab": {},
    "colab_type": "code",
    "collapsed": true,
    "id": "8C9BvG2VuvkJ"
   },
   "outputs": [],
   "source": [
    "hour = 10\n",
    "if hour > 7 and hour <= 12:\n",
    "    print(\"Good morning!\")\n",
    "elif hour > 12 and hour <= 18:\n",
    "    print(\"Good afternoon!\")\n",
    "elif hour > 18 and hour <= 22:\n",
    "    print(\"Good evening!\")\n",
    "else:\n",
    "    print(\"You're too late or too early!\")\n"
   ]
  },
  {
   "cell_type": "markdown",
   "metadata": {
    "colab_type": "text",
    "id": "D6-FYlzH7Rul"
   },
   "source": [
    "### Nesting if-statements\n",
    "\n",
    "If-statements can be arbitrarily nested in your code:"
   ]
  },
  {
   "cell_type": "code",
   "execution_count": 0,
   "metadata": {
    "colab": {},
    "colab_type": "code",
    "collapsed": true,
    "id": "b-WYmycv7Ufu"
   },
   "outputs": [],
   "source": [
    "## For this example, we'll import a function that generates random values\n",
    "from random import *\n",
    "\n",
    "## Here we use the random number generator to find some value\n",
    "## between 0 and 1\n",
    "random_number = random()\n",
    "print(\"My random number is: \" + str(random_number))"
   ]
  },
  {
   "cell_type": "code",
   "execution_count": 0,
   "metadata": {
    "colab": {},
    "colab_type": "code",
    "collapsed": true,
    "id": "LKtHyx3174B3"
   },
   "outputs": [],
   "source": [
    "if random_number < 0.5:\n",
    "    print(\"The number is less than .5\")\n",
    "    if random_number < 0.25:\n",
    "        print(\"... in fact, it's even less than .25\")\n",
    "else:\n",
    "    print(\"The number is greater than (or equal to) .5\")"
   ]
  },
  {
   "cell_type": "markdown",
   "metadata": {
    "colab_type": "text",
    "id": "2yhgt-2C7f1N"
   },
   "source": [
    "[Click here for an illustration](https://docs.google.com/drawings/d/1ql_x12TyNqkylYqe_tFrqJwbPGgC49qZ8I5wbv2eOtg/edit) of the logic in the if-statement above."
   ]
  },
  {
   "cell_type": "markdown",
   "metadata": {
    "colab_type": "text",
    "id": "OPLlevAm7GLB"
   },
   "source": [
    "What is the difference between Else-If and Nested If statements?"
   ]
  },
  {
   "cell_type": "markdown",
   "metadata": {
    "colab_type": "text",
    "id": "WCbLDsLCOvNC"
   },
   "source": [
    "# Essential Data Structures\n",
    "_(Denis)_\n",
    "\n",
    "## Lists"
   ]
  },
  {
   "cell_type": "code",
   "execution_count": 0,
   "metadata": {
    "colab": {},
    "colab_type": "code",
    "collapsed": true,
    "id": "DD3u2SlLOvND"
   },
   "outputs": [],
   "source": [
    "## Let's say I'm teaching a tutorial, and I want to save the names of all of my students\n",
    "\n",
    "## One way is to create a variable for each one, and save one name per variable\n",
    "\n",
    "student_1 = \"Alice\"\n",
    "student_2 = \"Xiaojing\"\n",
    "student_3 = \"Frank\"\n",
    "\n",
    "## This works ok... but it makes more sense to keep a single list!\n",
    "\n",
    "my_students = [\"Alice\", \"Xiaojing\", \"Frank\", \"George\", \"Amy\", \"Anita\"]"
   ]
  },
  {
   "cell_type": "code",
   "execution_count": 0,
   "metadata": {
    "colab": {},
    "colab_type": "code",
    "collapsed": true,
    "id": "-dtvfbieOvNG"
   },
   "outputs": [],
   "source": [
    "my_students"
   ]
  },
  {
   "cell_type": "markdown",
   "metadata": {
    "colab_type": "text",
    "id": "3VokaS8Om8iF"
   },
   "source": [
    "*Elements* within a list can be accessed by their *index number*\n",
    "\n",
    "*Index numbers* start at index 0, meaning that the first element in the list is at element 0"
   ]
  },
  {
   "cell_type": "code",
   "execution_count": 0,
   "metadata": {
    "colab": {},
    "colab_type": "code",
    "collapsed": true,
    "id": "QF5Ym8JlOvNJ"
   },
   "outputs": [],
   "source": [
    "my_students[0] ## You access elements of a list using this notation\n",
    "my_students[1]\n",
    "\n",
    "## You can even use an expression in the place of the index, as long\n",
    "## as that expression turns into a valid index\n",
    "my_index = 1 + 2\n",
    "print(my_students[my_index])\n"
   ]
  },
  {
   "cell_type": "code",
   "execution_count": 0,
   "metadata": {
    "colab": {},
    "colab_type": "code",
    "collapsed": true,
    "id": "gp67tx8qNNuw"
   },
   "outputs": [],
   "source": [
    "my_students[0:3] ## Take a subset of the list, starting at 0, stopping before 3"
   ]
  },
  {
   "cell_type": "code",
   "execution_count": 0,
   "metadata": {
    "colab": {},
    "colab_type": "code",
    "collapsed": true,
    "id": "yFV_S7r-KQfy"
   },
   "outputs": [],
   "source": [
    "my_students[-1] ## Access the list from the right (the end of it) using a negative index"
   ]
  },
  {
   "cell_type": "code",
   "execution_count": 0,
   "metadata": {
    "colab": {},
    "colab_type": "code",
    "collapsed": true,
    "id": "sBvc9uAEBQ8m"
   },
   "outputs": [],
   "source": [
    "my_students[::2] ## Step through 2 at a time"
   ]
  },
  {
   "cell_type": "code",
   "execution_count": 0,
   "metadata": {
    "colab": {},
    "colab_type": "code",
    "collapsed": true,
    "id": "NCEJHTefBc8W"
   },
   "outputs": [],
   "source": [
    "my_students[::-1] ## Reverse the list"
   ]
  },
  {
   "cell_type": "markdown",
   "metadata": {
    "colab_type": "text",
    "id": "OtDAeKT-BmqW"
   },
   "source": [
    "Note: we reversed the list above, but what happens when you look at the value of `my_students` again?"
   ]
  },
  {
   "cell_type": "code",
   "execution_count": 0,
   "metadata": {
    "colab": {},
    "colab_type": "code",
    "collapsed": true,
    "id": "xS2X9otJBdec"
   },
   "outputs": [],
   "source": [
    "my_students"
   ]
  },
  {
   "cell_type": "code",
   "execution_count": 0,
   "metadata": {
    "colab": {},
    "colab_type": "code",
    "collapsed": true,
    "id": "tCAFumtKNNr6"
   },
   "outputs": [],
   "source": [
    "my_students.append(\"Jacob\") ## Add a value to the end of a list\n",
    "\n",
    "my_students"
   ]
  },
  {
   "cell_type": "code",
   "execution_count": 0,
   "metadata": {
    "colab": {},
    "colab_type": "code",
    "collapsed": true,
    "id": "BUTc20Zw_3Ee"
   },
   "outputs": [],
   "source": [
    "my_students.pop(2) # remove element by index\n",
    "my_students"
   ]
  },
  {
   "cell_type": "code",
   "execution_count": 0,
   "metadata": {
    "colab": {},
    "colab_type": "code",
    "collapsed": true,
    "id": "Ub9JONbGRhS_"
   },
   "outputs": [],
   "source": [
    "late_registrations = [ 'Sally', 'Jose' ]\n",
    "\n",
    "## Here we are concatenating two lists\n",
    "## The `+` sign means addition for integers, but on lists it means concatenate\n",
    "\n",
    "print(my_students + late_registrations)\n",
    "print(my_students)"
   ]
  },
  {
   "cell_type": "code",
   "execution_count": 0,
   "metadata": {
    "colab": {},
    "colab_type": "code",
    "collapsed": true,
    "id": "LusFD-9jCP41"
   },
   "outputs": [],
   "source": [
    "my_list = my_students.copy()\n",
    "print(my_list)\n",
    "my_list.append(late_registrations)\n",
    "print(my_list)\n",
    "print(my_students+late_registrations)"
   ]
  },
  {
   "cell_type": "code",
   "execution_count": 0,
   "metadata": {
    "colab": {},
    "colab_type": "code",
    "collapsed": true,
    "id": "oXGohNUTEeQb"
   },
   "outputs": [],
   "source": [
    "## We are saving the result back to the variable called `my_students`\n",
    "my_students = my_students + late_registrations"
   ]
  },
  {
   "cell_type": "code",
   "execution_count": 0,
   "metadata": {
    "colab": {},
    "colab_type": "code",
    "collapsed": true,
    "id": "sXZRhFFabGUs"
   },
   "outputs": [],
   "source": [
    "## Checking the length of a list\n",
    "len(my_students)"
   ]
  },
  {
   "cell_type": "markdown",
   "metadata": {
    "colab_type": "text",
    "id": "q_aM8kco9Xp7"
   },
   "source": [
    "### Testing membership of a list"
   ]
  },
  {
   "cell_type": "code",
   "execution_count": 0,
   "metadata": {
    "colab": {},
    "colab_type": "code",
    "collapsed": true,
    "id": "hEPDl4QE9dd4"
   },
   "outputs": [],
   "source": [
    "if 'Anita' in my_students:\n",
    "    print(\"What's up Anita!\")\n",
    "else:\n",
    "    print(\"Oh, is Anita not in this class?\")"
   ]
  },
  {
   "cell_type": "markdown",
   "metadata": {
    "colab_type": "text",
    "id": "74DnKHwFm6om"
   },
   "source": [
    "## Challenge 2\n",
    "### Write some code that picks a student from your list `my_students` at random\n",
    "\n",
    "Hint: you can always round down a decimal number to an integer with the `int(x)` function:\n",
    "```python\n",
    "int( 4.6 ) ## this equals 4\n",
    "```\n"
   ]
  },
  {
   "cell_type": "code",
   "execution_count": 0,
   "metadata": {
    "colab": {},
    "colab_type": "code",
    "collapsed": true,
    "id": "hKgKiMgwndh3"
   },
   "outputs": [],
   "source": [
    "my_students"
   ]
  },
  {
   "cell_type": "markdown",
   "metadata": {
    "colab_type": "text",
    "id": "nRMaDBHoMz39"
   },
   "source": [
    "## Dictionaries\n",
    "_(Nick)_\n",
    "\n",
    "\n",
    "While lists are a great way to store any sort of ordered data that it makes sense to access via a numerical index, sometimes we want to find pieces of data based on other types of input, such as a string.\n",
    "\n",
    "Another way to put this is that, given some **key**, we want to find the coresponding **value**.\n",
    "\n",
    "For example, it might be easier to keep my dataset of students in a form where I can find someone's name given their NYU net id."
   ]
  },
  {
   "cell_type": "code",
   "execution_count": 0,
   "metadata": {
    "colab": {},
    "colab_type": "code",
    "collapsed": true,
    "id": "3TrI99z9PMV8"
   },
   "outputs": [],
   "source": [
    "netid_students = {\n",
    "    \"az123\": \"Alice\",\n",
    "    \"xa746\": \"Xiaojing\",\n",
    "    \"fj32\" : \"Frank\",\n",
    "    \"gm330\": \"George\",\n",
    "    \"aa21\" : \"Amy\",\n",
    "    \"ar987\": \"Anita\",\n",
    "    \"g3745\": \"George\"\n",
    "}\n",
    "\n",
    "## Now we can retrieve a name by using a netID as a key\n",
    "print(netid_students['aa21'])"
   ]
  },
  {
   "cell_type": "markdown",
   "metadata": {
    "colab_type": "text",
    "id": "7miCrfExPzp4"
   },
   "source": [
    "We can actually store anything we want as values in a dictionary, including lists, strings, numbers, or even other dictionaries.\n",
    "\n",
    "### Using dictionaries as records\n",
    "\n",
    "Often, people use dictionaries to store different types of information about whatever they are trying to model:"
   ]
  },
  {
   "cell_type": "code",
   "execution_count": 0,
   "metadata": {
    "colab": {},
    "colab_type": "code",
    "collapsed": true,
    "id": "tiIebxTJa5z3"
   },
   "outputs": [],
   "source": [
    "student1 = {\n",
    "    \"name\" : \"Alice\",\n",
    "    \"netid\": \"az123\",\n",
    "    \"currently_enrolled\": True,\n",
    "    \"credits_completed\": 32,\n",
    "    \"school\": \"GSAS\",\n",
    "    \"enrolled_in\": [\"Intro to Python\", \"Fundamental Algorithms\"]\n",
    "}\n",
    "\n",
    "student2 = {\n",
    "    \"name\" : \"Xiaojing\",\n",
    "    \"netid\": \"xa746\",\n",
    "    \"currently_enrolled\": True,\n",
    "    \"credits_completed\": 16,\n",
    "    \"school\": \"Wagner\",\n",
    "    \"enrolled_in\": [\n",
    "        \"Intro to Python\",\n",
    "        \"Natural Language Processing\",\n",
    "        \"Urban Planning\",\n",
    "        \"Shakespeare\"]\n",
    "}\n",
    "\n",
    "student_profiles = [student1, student2]"
   ]
  },
  {
   "cell_type": "markdown",
   "metadata": {
    "colab_type": "text",
    "id": "doG5282gAP5B"
   },
   "source": [
    "# Loops\n",
    "_(Nick)_\n"
   ]
  },
  {
   "cell_type": "markdown",
   "metadata": {
    "colab_type": "text",
    "id": "XCuDeolknhD5"
   },
   "source": [
    "Looping is one of the most fundamental operations in programming, but can be tricky to learn for the first time. Python has several ways of performing loops."
   ]
  },
  {
   "cell_type": "code",
   "execution_count": 0,
   "metadata": {
    "colab": {},
    "colab_type": "code",
    "collapsed": true,
    "id": "xBX3TOUbqF5K"
   },
   "outputs": [],
   "source": [
    "print(my_students)"
   ]
  },
  {
   "cell_type": "code",
   "execution_count": 0,
   "metadata": {
    "colab": {},
    "colab_type": "code",
    "collapsed": true,
    "id": "L3bujhprnhbk"
   },
   "outputs": [],
   "source": [
    "## Print each element of a list\n",
    "for student_name in my_students:\n",
    "    print(student_name)"
   ]
  },
  {
   "cell_type": "markdown",
   "metadata": {
    "colab_type": "text",
    "id": "jwFlZDzZSXl-"
   },
   "source": [
    "What's happening in the above example? The line `for student_name in my_students:` defines a **loop** through every element in `my_students`.\n",
    "\n",
    "Each element gets assigned to the temporary variable `student_name`, and then the body of the loop is executed; in this case, the body is only printing the value of that temporary name.\n",
    "\n",
    "Also notice that the line `print(student_name)` is indented. This is an aspect of Python –– the body of any loop, conditional, or function definition always needs to be indented."
   ]
  },
  {
   "cell_type": "code",
   "execution_count": 0,
   "metadata": {
    "colab": {},
    "colab_type": "code",
    "collapsed": true,
    "id": "Tuj-cv0oSxCD"
   },
   "outputs": [],
   "source": [
    "## We use a function to automatically create a list of numbers, starting at 0,\n",
    "## and ending at 19\n",
    "my_numbers = list(range(0,20))\n",
    "\n",
    "my_numbers"
   ]
  },
  {
   "cell_type": "code",
   "execution_count": 0,
   "metadata": {
    "colab": {},
    "colab_type": "code",
    "collapsed": true,
    "id": "ly0rgOPtSXOz"
   },
   "outputs": [],
   "source": [
    "for number in my_numbers:\n",
    "    if number == 5:\n",
    "        print(\"Hey, I love 5!\")\n",
    "    else:\n",
    "        print(number)"
   ]
  },
  {
   "cell_type": "markdown",
   "metadata": {
    "colab_type": "text",
    "id": "dyw8rd8KTd0m"
   },
   "source": [
    "Not only can we loop through lists, we can loop through dictionaries. With lists, we loop through them one element at a time (as seen above). Looping through dictionaries is slightly different –– we iterate through it one **key-value** pair at a time:"
   ]
  },
  {
   "cell_type": "code",
   "execution_count": 0,
   "metadata": {
    "colab": {},
    "colab_type": "code",
    "collapsed": true,
    "id": "P4r2_CGtTdoS"
   },
   "outputs": [],
   "source": [
    "## Notice that in order to loop through a dictionary's key-value pairs, we have\n",
    "## to append .items() to the name of the dictionary\n",
    "\n",
    "for netid, name in netid_students.items():\n",
    "    print(\"The student with netid: \" + netid + \" has the first name \" + name)"
   ]
  },
  {
   "cell_type": "code",
   "execution_count": 0,
   "metadata": {
    "colab": {},
    "colab_type": "code",
    "collapsed": true,
    "id": "Md-DRJwWqQt3"
   },
   "outputs": [],
   "source": [
    "print(student_profiles)"
   ]
  },
  {
   "cell_type": "code",
   "execution_count": 0,
   "metadata": {
    "colab": {},
    "colab_type": "code",
    "collapsed": true,
    "id": "hYiSP1B2cUeQ"
   },
   "outputs": [],
   "source": [
    "## Looping through a list that contains dictonaries\n",
    "\n",
    "for student in student_profiles:\n",
    "    if \"Fundamental Algorithms\" in student['enrolled_in']:\n",
    "        print(student['name'])"
   ]
  },
  {
   "cell_type": "markdown",
   "metadata": {
    "colab_type": "text",
    "id": "jlP1ls9hZRgI"
   },
   "source": [
    "We can also loop indefinitely, as long as some constraint remains true, using a **while-loop**:"
   ]
  },
  {
   "cell_type": "code",
   "execution_count": 0,
   "metadata": {
    "colab": {},
    "colab_type": "code",
    "collapsed": true,
    "id": "oxbZnsS1TY8K"
   },
   "outputs": [],
   "source": [
    "x = 0\n",
    "while x < 100:\n",
    "    print(x)\n",
    "    x = x + 10\n",
    "    ## Don't forget to update the value of x or you will be stuck in\n",
    "    ## an infinite loop!"
   ]
  },
  {
   "cell_type": "markdown",
   "metadata": {
    "colab_type": "text",
    "id": "fPMa-Jsi1r2c"
   },
   "source": [
    "In general, while-loops are helpful for performing some activity when you don't know before you start how many times the loop will need to run. For-loops are helpful in cases when you do know exactly how many times you want it to run."
   ]
  },
  {
   "cell_type": "markdown",
   "metadata": {
    "colab_type": "text",
    "id": "BZNEbyA9ZsST"
   },
   "source": [
    "Text strings are simply lists of characters, so you can loop through them as well:"
   ]
  },
  {
   "cell_type": "markdown",
   "metadata": {
    "colab_type": "text",
    "id": "99cNv4FXZ2jf"
   },
   "source": [
    "What does this do?\n",
    "```\n",
    "word = 'lead'\n",
    "for char in word:\n",
    "    print(char)\n",
    "\n",
    "(a) char\n",
    "(b) lead\n",
    "(c)     lead\n",
    "(d) aaaa\n",
    "(e) rrrr\n",
    "(f) l\n",
    "    e\n",
    "    a\n",
    "    d\n",
    " ```"
   ]
  },
  {
   "cell_type": "markdown",
   "metadata": {
    "colab_type": "text",
    "id": "X51RCiutQXtX"
   },
   "source": [
    "# Working With Strings\n",
    "_(Denis)_\n",
    "\n",
    "Python comes with many pre-defined functions that work on text strings. Combined with the ability to traverse through a string using loops (as shown above), there are tons ways to work with text."
   ]
  },
  {
   "cell_type": "code",
   "execution_count": 0,
   "metadata": {
    "colab": {},
    "colab_type": "code",
    "collapsed": true,
    "id": "ajUqXY64aSkd"
   },
   "outputs": [],
   "source": [
    "## Convert text to all lowercase or uppercase\n",
    "\n",
    "my_string = \"Hello World!\"\n",
    "\n",
    "print(my_string)\n",
    "print(my_string.lower())\n",
    "print(my_string.upper())"
   ]
  },
  {
   "cell_type": "code",
   "execution_count": 0,
   "metadata": {
    "colab": {},
    "colab_type": "code",
    "collapsed": true,
    "id": "WyyFOuXWpeq_"
   },
   "outputs": [],
   "source": [
    "## Split a string\n",
    "\n",
    "intro_text = (\"Python is a widely used high-level programming language for general-purpose programming, \"\n",
    "              \"created by Guido van Rossum and first released in 1991.\")\n",
    "\n",
    "tokens = intro_text.split(\" \") ## Here, we split on the whitespace character\n",
    "tokens ## We end up with a list of tokens"
   ]
  },
  {
   "cell_type": "code",
   "execution_count": 0,
   "metadata": {
    "colab": {},
    "colab_type": "code",
    "collapsed": true,
    "id": "Fc-OPH8daALE"
   },
   "outputs": [],
   "source": [
    "## Joining a list into a string\n",
    "## (the reverse of a split!)\n",
    "\n",
    "print(\" \".join(tokens))\n",
    "\n",
    "print(\", \".join(my_students))"
   ]
  },
  {
   "cell_type": "code",
   "execution_count": 0,
   "metadata": {
    "colab": {},
    "colab_type": "code",
    "collapsed": true,
    "id": "xy5SZW1CqJ6R"
   },
   "outputs": [],
   "source": [
    "## Making substitutions with replace()\n",
    "addresses = \"124 Fake St., 325 Broadway Ave., 718 Washington Ave., 70 W. 4th St.\"\n",
    "print(addresses)\n",
    "\n",
    "normalized_addresses = addresses.replace(\"St.\",\"Street\").replace(\"Ave.\",\"Avenue\")\n",
    "print(normalized_addresses)\n"
   ]
  },
  {
   "cell_type": "code",
   "execution_count": 0,
   "metadata": {
    "colab": {},
    "colab_type": "code",
    "collapsed": true,
    "id": "hkhtmlAbZknz"
   },
   "outputs": [],
   "source": [
    "## Reversing a string\n",
    "print(normalized_addresses[::-1])\n",
    "## This uses the slice notation, with start and end set to the beginning and end\n",
    "## of the string, but the \"step\" parameter set to -1"
   ]
  },
  {
   "cell_type": "markdown",
   "metadata": {
    "colab_type": "text",
    "id": "4Tyof8w_eG6S"
   },
   "source": [
    "But what if our strings have quotes in them? How do we print a statement like this:\n",
    "> Wait, she's going to say \"Hello!\"\n",
    "\n"
   ]
  },
  {
   "cell_type": "code",
   "execution_count": 0,
   "metadata": {
    "colab": {},
    "colab_type": "code",
    "collapsed": true,
    "id": "0jYHhLpceA_G"
   },
   "outputs": [],
   "source": [
    "print(\"Wait, she's going to say \\\"Hello!\\\"\")\n",
    "print('Wait, she\\'s going to say \"Hello!\"')\n",
    "print(\"\"\"Wait, she's going to say \"Hello!\" \"\"\")"
   ]
  },
  {
   "cell_type": "markdown",
   "metadata": {
    "colab_type": "text",
    "id": "u44JpCLVg2kO"
   },
   "source": [
    "Strings can be created in a number of different ways:\n",
    "\n",
    "```\n",
    "'single quotes'\n",
    "\"double quotes\"\n",
    "\"\"\" triple-double quotes \"\"\"  #This can contain line breaks!\n",
    "```\n",
    "or even like this:\n",
    "```\n",
    "''' triple-single \n",
    "    quotes '''\n",
    "```\n",
    "\n"
   ]
  },
  {
   "cell_type": "markdown",
   "metadata": {
    "colab_type": "text",
    "id": "JjrK65OoniFn"
   },
   "source": [
    "#Functions\n",
    "_(Nick)_\n"
   ]
  },
  {
   "cell_type": "markdown",
   "metadata": {
    "colab_type": "text",
    "id": "XbWDq-C6nlid"
   },
   "source": [
    "A user may want to define a function for a sequence of calculations needed to be executed at multiple different places in code. Functions make programming more concise and can serve as a great tool for the user writing code. \n"
   ]
  },
  {
   "cell_type": "markdown",
   "metadata": {
    "colab_type": "text",
    "id": "8AovNQsIrDca"
   },
   "source": [
    "Functions are defined with the following syntax:  \n"
   ]
  },
  {
   "cell_type": "code",
   "execution_count": 0,
   "metadata": {
    "colab": {},
    "colab_type": "code",
    "collapsed": true,
    "id": "B7T32_1vnl5Q"
   },
   "outputs": [],
   "source": [
    "def f (x):\n",
    "    print(x)"
   ]
  },
  {
   "cell_type": "markdown",
   "metadata": {
    "colab_type": "text",
    "id": "48IF5fiNrLeC"
   },
   "source": [
    "\tdef   tells Python that you are writing a function definition. This line of code is also followed by a colon\n",
    "\tf     is the name of the function so that the user can call the function later on\n",
    "\tx     within the parenthesis are parameters passed into the function to be used "
   ]
  },
  {
   "cell_type": "markdown",
   "metadata": {
    "colab_type": "text",
    "id": "Rr2wf5WuwYQ9"
   },
   "source": [
    " The proceeding lines of code are the body of a function and should be indented\n"
   ]
  },
  {
   "cell_type": "code",
   "execution_count": 0,
   "metadata": {
    "colab": {},
    "colab_type": "code",
    "collapsed": true,
    "id": "FlqZRQk2wOLL"
   },
   "outputs": [],
   "source": [
    "##Suppose we have the following String variables\n",
    "x = \"You just called a function on x\"\n",
    "y = \"You just called a function on y\""
   ]
  },
  {
   "cell_type": "code",
   "execution_count": 0,
   "metadata": {
    "colab": {},
    "colab_type": "code",
    "collapsed": true,
    "id": "2eq8TMccw9I3"
   },
   "outputs": [],
   "source": [
    "##We can call our function f on each x and y\n",
    "f(y)\n",
    "f(x)"
   ]
  },
  {
   "cell_type": "markdown",
   "metadata": {
    "colab_type": "text",
    "id": "FaZOB8A6xjSv"
   },
   "source": [
    "\n",
    "Notice how function f simply prints the parameter we pass in. Alternatively, functions can have a return value, which is something that may be retrieved or calculated within the function\n"
   ]
  },
  {
   "cell_type": "code",
   "execution_count": 0,
   "metadata": {
    "colab": {},
    "colab_type": "code",
    "collapsed": true,
    "id": "2O0EAHIOxuc2"
   },
   "outputs": [],
   "source": [
    "##Suppose we have a function that adds 5 to a given integer\n",
    "def addFive(x):\n",
    "    x = x + 5  #In this line, we are assigning a new value to x\n",
    "    return x   #Return is what the function will give back"
   ]
  },
  {
   "cell_type": "code",
   "execution_count": 0,
   "metadata": {
    "colab": {},
    "colab_type": "code",
    "collapsed": true,
    "id": "m1fx2T_ox42_"
   },
   "outputs": [],
   "source": [
    "##Now let's call addFive on an integer 5\n",
    "addFive(50)"
   ]
  },
  {
   "cell_type": "code",
   "execution_count": 0,
   "metadata": {
    "colab": {},
    "colab_type": "code",
    "collapsed": true,
    "id": "QVtFtDH4zZkR"
   },
   "outputs": [],
   "source": [
    "##What does this return?\n",
    "5 + addFive(5)"
   ]
  },
  {
   "cell_type": "code",
   "execution_count": 0,
   "metadata": {
    "colab": {},
    "colab_type": "code",
    "collapsed": true,
    "id": "Za-1zfDsyXn3"
   },
   "outputs": [],
   "source": [
    "##What does this return?\n",
    "addFive(addFive(5))"
   ]
  },
  {
   "cell_type": "markdown",
   "metadata": {
    "colab_type": "text",
    "id": "GuDEMX_9ylTy"
   },
   "source": [
    "Functions can be nested, and are evaluated from inside to out when implemented so"
   ]
  },
  {
   "cell_type": "code",
   "execution_count": 0,
   "metadata": {
    "colab": {},
    "colab_type": "code",
    "collapsed": true,
    "id": "3rqxXIYO0hMS"
   },
   "outputs": [],
   "source": [
    "##Let's say I want a function that adds 5 to only negative integers\n",
    "def add_to_negatives(x):\n",
    "    if (x < 0):\n",
    "       return x + 5\n",
    "    else:\n",
    "        return x"
   ]
  },
  {
   "cell_type": "code",
   "execution_count": 0,
   "metadata": {
    "colab": {},
    "colab_type": "code",
    "collapsed": true,
    "id": "7DXPS-lv1GpC"
   },
   "outputs": [],
   "source": [
    "##What is the output of calling\n",
    "add_to_negatives(-2) - add_to_negatives(3)"
   ]
  },
  {
   "cell_type": "markdown",
   "metadata": {
    "colab_type": "text",
    "id": "90dh1aTP1sHL"
   },
   "source": [
    "There is no rule to how complex a function definition should be, but the key is to have it concise so that it could be called on often"
   ]
  },
  {
   "cell_type": "code",
   "execution_count": 0,
   "metadata": {
    "colab": {},
    "colab_type": "code",
    "collapsed": true,
    "id": "oHw3N3bM2NX4"
   },
   "outputs": [],
   "source": [
    "##Functions can be as simple as a check to see if a number has more than two digits\n",
    "def digits_check(x):\n",
    "    if (x > 99 or x < -99):\n",
    "        return True\n",
    "    else:\n",
    "        return False"
   ]
  },
  {
   "cell_type": "code",
   "execution_count": 0,
   "metadata": {
    "colab": {},
    "colab_type": "code",
    "collapsed": true,
    "id": "eNe1YQHn2wqE"
   },
   "outputs": [],
   "source": [
    "digits_check(100)"
   ]
  },
  {
   "cell_type": "code",
   "execution_count": 0,
   "metadata": {
    "colab": {},
    "colab_type": "code",
    "collapsed": true,
    "id": "iqQOjc3O2y0s"
   },
   "outputs": [],
   "source": [
    "digits_check(-88)"
   ]
  },
  {
   "cell_type": "code",
   "execution_count": 0,
   "metadata": {
    "colab": {},
    "colab_type": "code",
    "collapsed": true,
    "id": "sgyMGFJFNExl"
   },
   "outputs": [],
   "source": [
    "# functions are re-usable pieces of code that can make your script more compact\n",
    "# functions also make it easier to compartmentalize the code\n",
    "def welcome_time(hour):\n",
    "    if hour > 7 and hour <= 12:\n",
    "        return('Good morning!')\n",
    "    elif hour > 12 and hour <= 18:\n",
    "        return('Good afternoon!')\n",
    "    elif hour > 18 and hour <= 22:\n",
    "        return('Good evening!')\n",
    "    else:\n",
    "        return('You\\'re too late or too early!')\n",
    "\n",
    "print(welcome_time(10))"
   ]
  },
  {
   "cell_type": "code",
   "execution_count": 0,
   "metadata": {
    "colab": {},
    "colab_type": "code",
    "collapsed": true,
    "id": "qZr_rs8aOf7s"
   },
   "outputs": [],
   "source": [
    "def welcome(name,h):\n",
    "  print(welcome_time(h).replace('!',', ' + name + '!'))\n",
    "  \n",
    "welcome('Paul',10)\n",
    "welcome('Sally',20)\n",
    "welcome('Gene',5)"
   ]
  },
  {
   "cell_type": "markdown",
   "metadata": {
    "colab_type": "text",
    "id": "Og3WMT2NbZlZ"
   },
   "source": [
    "## (Group) Challenge 3\n",
    "\n",
    "**Background:** You're doing a project on linguistics and want a way to find all of the palindromes that commonly appear in pieces of literature. But where to begin???\n",
    "\n",
    "#### Part 1\n",
    "### Write a function, `is_palindrome(x)` that takes a single word (as a string) as input, and returns either `True` or `False` depending on if the input is a palindrome\n",
    "e.g.\n",
    "`is_palindrome(\"Hello world!\")` should return **`False`**.\n",
    "\n",
    "however, `is_palindrome(\"tacocat\")` should return **`True`**.\n",
    "\n"
   ]
  },
  {
   "cell_type": "code",
   "execution_count": 0,
   "metadata": {
    "colab": {},
    "colab_type": "code",
    "collapsed": true,
    "id": "8cpOH-RwfR67"
   },
   "outputs": [],
   "source": [
    "def is_palindrome(input):\n",
    "    ## Fill this in!\n",
    "    return False\n"
   ]
  },
  {
   "cell_type": "markdown",
   "metadata": {
    "colab_type": "text",
    "id": "QOA3mX77tDIC"
   },
   "source": [
    "\n",
    "#### Part 2\n",
    "### Using `is_palindrome(x)`, write a new function that takes a paragraph of text as input, checks each individual word larger than 1 character to see if it is a palindrome, and returns a list of all of the palindromes which were found.\n",
    "e.g.\n",
    "\n",
    "`palindrome_search(\"I have no idea what a tacocat is.\") = ['tacocat']` \n"
   ]
  },
  {
   "cell_type": "code",
   "execution_count": 0,
   "metadata": {
    "colab": {},
    "colab_type": "code",
    "collapsed": true,
    "id": "uU-pqZBdtFl4"
   },
   "outputs": [],
   "source": [
    "## Two paragraphs from the first pages of Moby Dick:\n",
    "para1 = (\"Call me Ishmael. Some years ago—never mind how long precisely—having \"\n",
    "         \"little or no money in my purse, and nothing particular to interest me \"\n",
    "         \"on shore, I thought I would sail about a little and see the watery part \"\n",
    "         \"of the world. It is a way I have of driving off the spleen and regulating \"\n",
    "         \"the circulation. Whenever I find myself growing grim about the mouth; whenever \"\n",
    "         \"it is a damp, drizzly November in my soul; whenever I find myself involuntarily \"\n",
    "         \"pausing before coffin warehouses, and bringing up the rear of every funeral I meet; \"\n",
    "         \"and especially whenever my hypos get such an upper hand of me, that it requires a strong \"\n",
    "         \"moral principle to prevent me from deliberately stepping into the street, and methodically \"\n",
    "         \"knocking people’s hats off—then, I account it high time to get to sea as soon as I can. This \"\n",
    "         \"is my substitute for pistol and ball. With a philosophical flourish Cato throws himself upon his \"\n",
    "         \"sword; I quietly take to the ship. There is nothing surprising in this. If they but knew it, almost \"\n",
    "         \"all men in their degree, some time or other, cherish very nearly the same feelings towards the ocean with me.\")\n",
    "para2 = (\"But here is an artist. He desires to paint you the dreamiest, shadiest, \"\n",
    "         \"quietest, most enchanting bit of romantic landscape in all the valley of the \"\n",
    "         \"Saco. What is the chief element he employs? There stand his trees, each with a \"\n",
    "         \"hollow trunk, as if a hermit and a crucifix were within; and here sleeps his meadow, \"\n",
    "         \"and there sleep his cattle; and up from yonder cottage goes a sleepy smoke. Deep into \"\n",
    "         \"distant woodlands winds a mazy way, reaching to overlapping spurs of mountains bathed in \"\n",
    "         \"their hill-side blue. But though the picture lies thus tranced, and though this pine-tree \"\n",
    "         \"shakes down its sighs like leaves upon this shepherd’s head, yet all were vain, unless the \"\n",
    "         \"shepherd’s eye were fixed upon the magic stream before him. Go visit the Prairies in June, when \"\n",
    "         \"for scores on scores of miles you wade knee-deep among Tiger-lilies—what is the one charm wanting?—Water—there \"\n",
    "         \"is not a drop of water there! Were Niagara but a cataract of sand, would you travel your thousand miles to see it? \"\n",
    "         \"Why did the poor poet of Tennessee, upon suddenly receiving two handfuls of silver, deliberate whether to buy him a coat, \"\n",
    "         \"which he sadly needed, or invest his money in a pedestrian trip to Rockaway Beach? Why is almost every robust healthy boy with \"\n",
    "         \"a robust healthy soul in him, at some time or other crazy to go to sea? Why upon your first voyage as a passenger, did you yourself \"\n",
    "         \"feel such a mystical vibration, when first told that you and your ship were now out of sight of land? Why did the old Persians hold \"\n",
    "         \"the sea holy? Why did the Greeks give it a separate deity, and own brother of Jove? Surely all this is not without meaning. And still \"\n",
    "         \"deeper the meaning of that story of Narcissus, who because he could not grasp the tormenting, mild image he saw in the fountain, plunged \"\n",
    "         \"into it and was drowned. But that same image, we ourselves see in all rivers and oceans. It is the image of the ungraspable phantom of life; \"\n",
    "         \"and this is the key to it all.\")\n",
    "\n",
    "\n",
    "def palindrome_search(paragraph):\n",
    "    ## Fill this in!\n",
    "    return []"
   ]
  },
  {
   "cell_type": "markdown",
   "metadata": {
    "colab_type": "text",
    "id": "c4A4blUdtrMn"
   },
   "source": [
    "## Challenge 4\n",
    "### Write a function, `vowel_count(x)` that takes a string as input, and outputs a count of the number of vowels in that string\n",
    "\n",
    "e.g.\n",
    "`vowel_count(\"Hello world!\")` should return **`3`**."
   ]
  },
  {
   "cell_type": "code",
   "execution_count": 0,
   "metadata": {
    "colab": {},
    "colab_type": "code",
    "collapsed": true,
    "id": "vJh3pDOUuNZ2"
   },
   "outputs": [],
   "source": [
    "def vowel_count(x):\n",
    "  ## Do something!\n",
    "  return 0"
   ]
  },
  {
   "cell_type": "markdown",
   "metadata": {
    "colab_type": "text",
    "id": "6BL5oeLKv2ZV"
   },
   "source": [
    "## (Extra) Challenge 5\n",
    "### Write a function, `random_value(list)` that takes a list of anything, and returns a random element from it\n",
    "\n",
    "Hint: this is very similar to the challenge before, about picking a random student, but this time it needs to work for all possible lists!\n",
    "\n",
    "e.g.\n",
    "\n",
    "```python\n",
    "northeast = [\"New York\",\n",
    "             \"New Jersey\",\n",
    "             \"Pennsylvania\",\n",
    "             \"Connecticut\",\n",
    "             \"Vermont\",\n",
    "             \"Massachusetts\",\n",
    "             \"New Hampshire\",\n",
    "             \"Maine\",\n",
    "             \"Rhode Island\"]\n",
    "random_state = random_value(northeast)\n",
    "```\n",
    "\n"
   ]
  },
  {
   "cell_type": "markdown",
   "metadata": {
    "colab_type": "text",
    "id": "JIntgpDxlnjg"
   },
   "source": [
    "# Help and additional functions\n",
    "\n",
    "*   Python documentation, e.g. https://docs.python.org/3/library/math.html\n",
    "*   StackOverflow e.g. [calculate logarithm in python](https://www.google.com/search?q=calculate+logarithm+in+python): https://stackoverflow.com/questions/33754670/calculate-logarithm-in-python\n",
    "\n"
   ]
  },
  {
   "cell_type": "code",
   "execution_count": 0,
   "metadata": {
    "colab": {},
    "colab_type": "code",
    "collapsed": true,
    "id": "zMEEoqV0n31H"
   },
   "outputs": [],
   "source": [
    "import math\n",
    "print(math.sqrt(256))\n",
    "print(math.log(100))\n",
    "print(math.log(100)/math.log(10))"
   ]
  },
  {
   "cell_type": "markdown",
   "metadata": {
    "colab_type": "text",
    "id": "_zHkNHXfEH2Q"
   },
   "source": [
    "# Web Scraping Example: Top Billboard Records from [Ultimate Music Database](http://www.umdmusic.com/default.asp?Lang=English&Chart=D)\n",
    "_(Denis)_\n"
   ]
  },
  {
   "cell_type": "markdown",
   "metadata": {
    "colab_type": "text",
    "id": "Mmew3bd1AOw1"
   },
   "source": [
    "For a sample of the html for this database, see [http://sandbox.data-services.hosting.nyu.edu/ultimate-music-db.html](http://sandbox.data-services.hosting.nyu.edu/ultimate-music-db.html)."
   ]
  },
  {
   "cell_type": "code",
   "execution_count": 0,
   "metadata": {
    "colab": {},
    "colab_type": "code",
    "collapsed": true,
    "id": "r_QQzbb5APap"
   },
   "outputs": [],
   "source": [
    "from bs4 import BeautifulSoup\n",
    "import csv\n",
    "from urllib.request import urlopen\n",
    "import string\n",
    "\n",
    "url = 'http://www.umdmusic.com/default.asp?Lang=English&Chart=D&ChDate=20171125&ChMode=P'\n",
    "html = urlopen(url)\n",
    "soup = BeautifulSoup(html)"
   ]
  },
  {
   "cell_type": "code",
   "execution_count": 0,
   "metadata": {
    "colab": {},
    "colab_type": "code",
    "collapsed": true,
    "id": "bMUJqvmJkSL4"
   },
   "outputs": [],
   "source": [
    "# Alternatively\n",
    "import requests\n",
    "r = requests.get(url)\n",
    "soup = BeautifulSoup(r.text)"
   ]
  },
  {
   "cell_type": "code",
   "execution_count": 0,
   "metadata": {
    "colab": {},
    "colab_type": "code",
    "collapsed": true,
    "id": "vM5W3_NaCLbz"
   },
   "outputs": [],
   "source": [
    "main_table = soup.find_all('table')[9]\n",
    "main_table"
   ]
  },
  {
   "cell_type": "code",
   "execution_count": 0,
   "metadata": {
    "colab": {},
    "colab_type": "code",
    "collapsed": true,
    "id": "xXrSpwwOfxfP"
   },
   "outputs": [],
   "source": [
    "from IPython.core.display import display, HTML\n",
    "display(HTML(str(main_table)))"
   ]
  },
  {
   "cell_type": "code",
   "execution_count": 0,
   "metadata": {
    "colab": {},
    "colab_type": "code",
    "collapsed": true,
    "id": "QN7sqjgCFwX1"
   },
   "outputs": [],
   "source": [
    "records = []\n",
    "for tr in main_table.find_all('tr')[2:]:\n",
    "    tds = tr.find_all('td')\n",
    "    #url = tds[8].a.get('href')\n",
    "    records.append([elem.text.strip() for elem in tds])\n",
    "print(records)"
   ]
  },
  {
   "cell_type": "code",
   "execution_count": 0,
   "metadata": {
    "colab": {},
    "colab_type": "code",
    "collapsed": true,
    "id": "0dqUJ9EuGJmt"
   },
   "outputs": [],
   "source": [
    "print(records[0])\n",
    "print(len(records[0]))"
   ]
  },
  {
   "cell_type": "code",
   "execution_count": 0,
   "metadata": {
    "colab": {},
    "colab_type": "code",
    "collapsed": true,
    "id": "KEtCorwv5DF1"
   },
   "outputs": [],
   "source": [
    "print(records[0][4])\n",
    "print(len(records[0][4]))"
   ]
  },
  {
   "cell_type": "code",
   "execution_count": 0,
   "metadata": {
    "colab": {},
    "colab_type": "code",
    "collapsed": true,
    "id": "Cz2dQcpeGeu8"
   },
   "outputs": [],
   "source": [
    "with open('listing.csv', 'w+', encoding='utf-8') as f:\n",
    "    writer = csv.writer(f)\n",
    "    writer.writerows(records)\n",
    "    \n",
    "# here we're essentially done"
   ]
  },
  {
   "cell_type": "code",
   "execution_count": 0,
   "metadata": {
    "colab": {},
    "colab_type": "code",
    "collapsed": true,
    "id": "FisxIamrHfHD"
   },
   "outputs": [],
   "source": [
    "# check that the file is in the current directory\n",
    "import os\n",
    "os.getcwd()\n",
    "files = [f for f in os.listdir('.') if os.path.isfile(f)]\n",
    "files"
   ]
  },
  {
   "cell_type": "markdown",
   "metadata": {
    "colab_type": "text",
    "id": "yBcv0ar6dd8W"
   },
   "source": [
    "### Dealing with Dates"
   ]
  },
  {
   "cell_type": "code",
   "execution_count": 0,
   "metadata": {
    "colab": {},
    "colab_type": "code",
    "collapsed": true,
    "id": "b2szFaamnZTw"
   },
   "outputs": [],
   "source": [
    "# Dealing with dates:\n",
    "from datetime import datetime, timedelta\n",
    "\n",
    "start_date = datetime(2017, 11, 25)\n",
    "d = start_date - timedelta(days=7)\n",
    "print(d.strftime('%Y%m%d'))\n",
    "new_url = 'http://www.umdmusic.com/default.asp?Lang=English&Chart=D&ChDate=' + d.strftime('%Y%m%d') + '&ChMode=P'\n",
    "print(new_url)\n"
   ]
  },
  {
   "cell_type": "code",
   "execution_count": 0,
   "metadata": {
    "colab": {},
    "colab_type": "code",
    "collapsed": true,
    "id": "kahtqczClti9"
   },
   "outputs": [],
   "source": [
    "datetime(2017,11,24) < start_date"
   ]
  },
  {
   "cell_type": "markdown",
   "metadata": {
    "colab_type": "text",
    "id": "4zILmwsteJ07"
   },
   "source": [
    "### Note the mini-language used to specify date format:\n",
    "https://docs.python.org/3/library/datetime.html#strftime-and-strptime-behavior"
   ]
  },
  {
   "cell_type": "code",
   "execution_count": 0,
   "metadata": {
    "colab": {},
    "colab_type": "code",
    "collapsed": true,
    "id": "vXlrB6Cuhe0e"
   },
   "outputs": [],
   "source": [
    "from bs4 import BeautifulSoup\n",
    "from urllib.request import urlopen\n",
    "import csv\n",
    "from datetime import datetime, timedelta\n",
    "import string\n",
    "\n",
    "from time import sleep\n",
    "import random\n",
    "\n",
    "start_date = datetime(2017, 11, 25)\n",
    "end_date = datetime(2017,9,1)\n",
    "\n",
    "d = start_date\n",
    "records = []\n",
    "while d > end_date:\n",
    "    print(d.strftime('%Y%m%d'))\n",
    "    new_url = 'http://www.umdmusic.com/default.asp?Lang=English&Chart=D&ChDate=' + d.strftime('%Y%m%d') + '&ChMode=P'\n",
    "    html = urlopen(new_url)\n",
    "    soup = BeautifulSoup(html)\n",
    "\n",
    "    try:\n",
    "        main_table = soup.find_all('table')[9]\n",
    "\n",
    "        for tr in main_table.find_all('tr')[2:]:\n",
    "            tds = tr.find_all('td')\n",
    "            records.append([elem.text.strip() for elem in tds])\n",
    "\n",
    "    except:\n",
    "        print('No data for ' + d.strftime('%Y%m%d'))\n",
    "\n",
    "    d = d - timedelta(days=7)\n",
    "\n",
    "    sleep(random.uniform(0.5,2))\n",
    "\n",
    "  \n",
    "  \n",
    "with open('listing.csv', 'w+', encoding='utf-8') as f:\n",
    "    writer = csv.writer(f)\n",
    "    writer.writerows(records)\n"
   ]
  },
  {
   "cell_type": "code",
   "execution_count": 0,
   "metadata": {
    "colab": {},
    "colab_type": "code",
    "collapsed": true,
    "id": "aWQZKBpfogbx"
   },
   "outputs": [],
   "source": [
    "len(records)"
   ]
  },
  {
   "cell_type": "markdown",
   "metadata": {
    "colab_type": "text",
    "id": "WffA5lTI6jDI"
   },
   "source": [
    "# Challenge Answers"
   ]
  },
  {
   "cell_type": "markdown",
   "metadata": {
    "colab_type": "text",
    "id": "LMus-V-MpCfZ"
   },
   "source": [
    "More python resources [here](https://guides.nyu.edu/python)"
   ]
  },
  {
   "cell_type": "markdown",
   "metadata": {
    "colab_type": "text",
    "id": "i4tdVLI56i9D"
   },
   "source": [
    "## Challenge 1\n",
    "\n",
    "The correct answer is 2: nothing is True and False at the same time"
   ]
  },
  {
   "cell_type": "markdown",
   "metadata": {
    "colab_type": "text",
    "id": "G9HOYR8M7Gdf"
   },
   "source": [
    "## Challenge 2\n",
    "\n",
    "* random() gives a floating point value between 0 and 1, not including 1\n",
    "* If there are 9 students, random() x 9 is a number between 0 and 9. \n",
    "* len(my_students) gives the number of elements in the list\n",
    "* int() rounds the number down\n"
   ]
  },
  {
   "cell_type": "code",
   "execution_count": 0,
   "metadata": {
    "colab": {},
    "colab_type": "code",
    "collapsed": true,
    "id": "Sv3RAxH37eMi"
   },
   "outputs": [],
   "source": [
    "my_students[int(random()*len(my_students))]"
   ]
  },
  {
   "cell_type": "markdown",
   "metadata": {
    "colab_type": "text",
    "id": "sNoeacrB895q"
   },
   "source": [
    "## Challenge 3"
   ]
  },
  {
   "cell_type": "code",
   "execution_count": 0,
   "metadata": {
    "colab": {},
    "colab_type": "code",
    "collapsed": true,
    "id": "36fX6n1_7mbn"
   },
   "outputs": [],
   "source": [
    "def is_palindrome(input):\n",
    "    if input == input[::-1]:\n",
    "      return True\n",
    "    else:\n",
    "      return False\n",
    "\n",
    "is_palindrome(\"tacocat\")"
   ]
  },
  {
   "cell_type": "code",
   "execution_count": 0,
   "metadata": {
    "colab": {},
    "colab_type": "code",
    "collapsed": true,
    "id": "8f6g2ur2OBJ_"
   },
   "outputs": [],
   "source": [
    "def palindrome_search(paragraph):\n",
    "  tokens = paragraph.split(\" \")\n",
    "  palindromes = []\n",
    "  for token in tokens:\n",
    "    if len(token)>1 and token == token[::-1]:\n",
    "      palindromes = palindromes + [token]\n",
    "  return palindromes"
   ]
  },
  {
   "cell_type": "markdown",
   "metadata": {
    "colab_type": "text",
    "id": "iiImNPsU9h0H"
   },
   "source": [
    "## Challenge 4"
   ]
  },
  {
   "cell_type": "code",
   "execution_count": 0,
   "metadata": {
    "colab": {},
    "colab_type": "code",
    "collapsed": true,
    "id": "sE6cugaK9Q5y"
   },
   "outputs": [],
   "source": [
    "def vowel_count(x):\n",
    "  count_vowels = 0\n",
    "  for char in x:\n",
    "    if char in ['a','e','i','o','u']:\n",
    "      count_vowels+=1\n",
    "  return count_vowels\n",
    "\n",
    "vowel_count(\"Hello World\")"
   ]
  },
  {
   "cell_type": "markdown",
   "metadata": {
    "colab_type": "text",
    "id": "hF53x4NY968n"
   },
   "source": [
    "## Challenge 5"
   ]
  },
  {
   "cell_type": "code",
   "execution_count": 0,
   "metadata": {
    "colab": {},
    "colab_type": "code",
    "collapsed": true,
    "id": "0l4gQa7o91Gw"
   },
   "outputs": [],
   "source": [
    "def random_value(list_in):\n",
    "  return list_in[round(random()*(len(list_in)-1))]\n",
    "\n",
    "northeast = [\"New York\",\n",
    "             \"New Jersey\",\n",
    "             \"Pennsylvania\",\n",
    "             \"Connecticut\",\n",
    "             \"Vermont\",\n",
    "             \"Massachusetts\",\n",
    "             \"New Hampshire\",\n",
    "             \"Maine\",\n",
    "             \"Rhode Island\"]\n",
    "random_state = random_value(northeast)\n",
    "print(random_state)"
   ]
  },
  {
   "cell_type": "code",
   "execution_count": 0,
   "metadata": {
    "colab": {},
    "colab_type": "code",
    "collapsed": true,
    "id": "aPYvgp1p_HtB"
   },
   "outputs": [],
   "source": []
  }
 ],
 "metadata": {
  "colab": {
   "collapsed_sections": [],
   "name": "introduction_to_python.ipynb",
   "private_outputs": true,
   "provenance": [],
   "toc_visible": true,
   "version": "0.3.2"
  },
  "kernelspec": {
   "display_name": "Python 3",
   "language": "python",
   "name": "python3"
  },
  "language_info": {
   "codemirror_mode": {
    "name": "ipython",
    "version": 3
   },
   "file_extension": ".py",
   "mimetype": "text/x-python",
   "name": "python",
   "nbconvert_exporter": "python",
   "pygments_lexer": "ipython3",
   "version": "3.7.6"
  }
 },
 "nbformat": 4,
 "nbformat_minor": 1
}
